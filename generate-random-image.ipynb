{
 "cells": [
  {
   "cell_type": "code",
   "execution_count": 1,
   "metadata": {},
   "outputs": [],
   "source": [
    "%load_ext autoreload\n",
    "%autoreload 2"
   ]
  },
  {
   "cell_type": "code",
   "execution_count": 2,
   "metadata": {
    "scrolled": false
   },
   "outputs": [
    {
     "name": "stderr",
     "output_type": "stream",
     "text": [
      "/home/tom/anaconda3/envs/facemelt/lib/python2.7/site-packages/theano/configdefaults.py:1890: UserWarning: Theano does not recognise this flag: lib.cnmem\n",
      "  warnings.warn('Theano does not recognise this flag: {0}'.format(key))\n",
      "/home/tom/anaconda3/envs/facemelt/lib/python2.7/site-packages/theano/configdefaults.py:1890: UserWarning: Theano does not recognise this flag: nvcc.fastmath\n",
      "  warnings.warn('Theano does not recognise this flag: {0}'.format(key))\n",
      "WARNING (theano.configdefaults): install mkl with `conda install mkl-service`: No module named mkl\n",
      "WARNING (theano.tensor.blas): Using NumPy C-API based implementation for BLAS functions.\n",
      "Using cuDNN version 5110 on context None\n",
      "Preallocating 10295/11439 Mb (0.900000) on cuda\n",
      "Mapped name None to device cuda: Tesla K80 (0000:00:04.0)\n"
     ]
    },
    {
     "name": "stdout",
     "output_type": "stream",
     "text": [
      "Generating video...\n",
      "Saving results to results/035-celeb-hq-1024x1024\n",
      "[MoviePy] >>>> Building video results/035-celeb-hq-1024x1024/035-celeb-hq-1024x1024.mp4\n",
      "[MoviePy] Writing video results/035-celeb-hq-1024x1024/035-celeb-hq-1024x1024.mp4\n"
     ]
    },
    {
     "name": "stderr",
     "output_type": "stream",
     "text": [
      " 99%|#########9| 150/151 [00:20<00:00,  7.25it/s]\n"
     ]
    },
    {
     "name": "stdout",
     "output_type": "stream",
     "text": [
      "[MoviePy] Done.\n",
      "[MoviePy] >>>> Video ready: results/035-celeb-hq-1024x1024/035-celeb-hq-1024x1024.mp4 \n",
      "\n",
      "Done.\n",
      "[MoviePy] >>>> Building video /home/tom/code/facemelt/results/01-20-23-53-45.mp4\n",
      "[MoviePy] Writing audio in 01-20-23-53-45TEMP_MPY_wvf_snd.mp3\n"
     ]
    },
    {
     "name": "stderr",
     "output_type": "stream",
     "text": [
      "100%|##########| 111/111 [00:00<00:00, 779.26it/s]\n"
     ]
    },
    {
     "name": "stdout",
     "output_type": "stream",
     "text": [
      "[MoviePy] Done.\n",
      "[MoviePy] Writing video /home/tom/code/facemelt/results/01-20-23-53-45.mp4\n"
     ]
    },
    {
     "name": "stderr",
     "output_type": "stream",
     "text": [
      " 99%|#########9| 150/151 [00:01<00:00, 118.77it/s]\n"
     ]
    },
    {
     "name": "stdout",
     "output_type": "stream",
     "text": [
      "[MoviePy] Done.\n",
      "[MoviePy] >>>> Video ready: /home/tom/code/facemelt/results/01-20-23-53-45.mp4 \n",
      "\n"
     ]
    },
    {
     "data": {
      "text/html": [
       "\n",
       "      <div>\n",
       "        <div>\n",
       "          <a href='../results/01-20-23-53-45.mp4' target='blank'>Link to video</a>\n",
       "        </div>\n",
       "        <video width=512 autoplay controls src='../results/01-20-23-53-45.mp4'></video>\n",
       "      </div>\n",
       "    "
      ],
      "text/plain": [
       "<IPython.core.display.HTML object>"
      ]
     },
     "execution_count": 2,
     "metadata": {},
     "output_type": "execute_result"
    }
   ],
   "source": [
    "from utils import latents_to_video, render_videofile_from_components, FACEMELT_ROOT, timestamp\n",
    "\n",
    "latents_filepath = FACEMELT_ROOT + \"simple_audio.npy\"\n",
    "audio_filepath = FACEMELT_ROOT + \"Test.mp3\"\n",
    "out_filepath = FACEMELT_ROOT + \"results/%s.mp4\" % timestamp()\n",
    "\n",
    "video_filepath = latents_to_video(latents_filepath)\n",
    "render_videofile_from_components(video_filepath, audio_filepath, out_filepath)"
   ]
  },
  {
   "cell_type": "code",
   "execution_count": null,
   "metadata": {},
   "outputs": [],
   "source": []
  }
 ],
 "metadata": {
  "kernelspec": {
   "display_name": "facemelt",
   "language": "python",
   "name": "facemelt"
  },
  "language_info": {
   "codemirror_mode": {
    "name": "ipython",
    "version": 2
   },
   "file_extension": ".py",
   "mimetype": "text/x-python",
   "name": "python",
   "nbconvert_exporter": "python",
   "pygments_lexer": "ipython2",
   "version": "2.7.11"
  }
 },
 "nbformat": 4,
 "nbformat_minor": 2
}
